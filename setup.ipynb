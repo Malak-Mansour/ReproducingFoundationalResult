{
 "cells": [
  {
   "cell_type": "markdown",
   "id": "cec8c5ca-7490-41dc-8bfe-ac53590bdb06",
   "metadata": {},
   "source": [
    "# TCP Congestion Control\n",
    "\n",
    "In this notebook you will: \n",
    "\n",
    "-   Reserve resources for this experiment\n",
    "-   Configure your reserved resources\n",
    "-   Access your reserved resources over SSH\n",
    "-   Retrieve files saved on a FABRIC resources\n",
    "-   Visualize the data retrieved\n",
    "-   Extend your FABRIC reservation (in case you need more time) or delete it (in case you finish early)"
   ]
  },
  {
   "cell_type": "markdown",
   "id": "55dfc5e4-1ff2-4535-b647-a388991e3f1b",
   "metadata": {
    "tags": []
   },
   "source": [
    "### Exercise: Reserve resources\n",
    "\n",
    "In this exercise, we will reserve resources on FABRIC: two hosts on two different network segments, connected by a router."
   ]
  },
  {
   "cell_type": "code",
   "execution_count": 1,
   "id": "c08a70e2-610c-4f34-877b-5305da8f9f15",
   "metadata": {},
   "outputs": [
    {
     "data": {
      "text/html": [
       "<style type=\"text/css\">\n",
       "#T_80485 tr:nth-child(even) {\n",
       "  background: #dbf3ff;\n",
       "  color: #231f20;\n",
       "}\n",
       "#T_80485 tr:nth-child(odd) {\n",
       "  background: #ffffff;\n",
       "  color: #231f20;\n",
       "}\n",
       "#T_80485 caption {\n",
       "  text-align: center;\n",
       "  font-size: 150%;\n",
       "}\n",
       "#T_80485_row0_col0, #T_80485_row0_col1, #T_80485_row1_col0, #T_80485_row1_col1, #T_80485_row2_col0, #T_80485_row2_col1, #T_80485_row3_col0, #T_80485_row3_col1, #T_80485_row4_col0, #T_80485_row4_col1, #T_80485_row5_col0, #T_80485_row5_col1, #T_80485_row6_col0, #T_80485_row6_col1, #T_80485_row7_col0, #T_80485_row7_col1, #T_80485_row8_col0, #T_80485_row8_col1, #T_80485_row9_col0, #T_80485_row9_col1, #T_80485_row10_col0, #T_80485_row10_col1, #T_80485_row11_col0, #T_80485_row11_col1, #T_80485_row12_col0, #T_80485_row12_col1, #T_80485_row13_col0, #T_80485_row13_col1 {\n",
       "  text-align: left;\n",
       "  border: 1px #231f20 solid !important;\n",
       "  overwrite: False;\n",
       "}\n",
       "</style>\n",
       "<table id=\"T_80485\">\n",
       "  <caption>FABlib Config</caption>\n",
       "  <thead>\n",
       "  </thead>\n",
       "  <tbody>\n",
       "    <tr>\n",
       "      <td id=\"T_80485_row0_col0\" class=\"data row0 col0\" >Credential Manager</td>\n",
       "      <td id=\"T_80485_row0_col1\" class=\"data row0 col1\" >cm.fabric-testbed.net</td>\n",
       "    </tr>\n",
       "    <tr>\n",
       "      <td id=\"T_80485_row1_col0\" class=\"data row1 col0\" >Orchestrator</td>\n",
       "      <td id=\"T_80485_row1_col1\" class=\"data row1 col1\" >orchestrator.fabric-testbed.net</td>\n",
       "    </tr>\n",
       "    <tr>\n",
       "      <td id=\"T_80485_row2_col0\" class=\"data row2 col0\" >Token File</td>\n",
       "      <td id=\"T_80485_row2_col1\" class=\"data row2 col1\" >/home/fabric/.tokens.json</td>\n",
       "    </tr>\n",
       "    <tr>\n",
       "      <td id=\"T_80485_row3_col0\" class=\"data row3 col0\" >Project ID</td>\n",
       "      <td id=\"T_80485_row3_col1\" class=\"data row3 col1\" >40ba6253-c257-4d9c-8658-7406bb437eb5</td>\n",
       "    </tr>\n",
       "    <tr>\n",
       "      <td id=\"T_80485_row4_col0\" class=\"data row4 col0\" >Bastion Username</td>\n",
       "      <td id=\"T_80485_row4_col1\" class=\"data row4 col1\" >mim7995_0000088864</td>\n",
       "    </tr>\n",
       "    <tr>\n",
       "      <td id=\"T_80485_row5_col0\" class=\"data row5 col0\" >Bastion Private Key File</td>\n",
       "      <td id=\"T_80485_row5_col1\" class=\"data row5 col1\" >/home/fabric/work/fabric_config/fabric_bastion_key</td>\n",
       "    </tr>\n",
       "    <tr>\n",
       "      <td id=\"T_80485_row6_col0\" class=\"data row6 col0\" >Bastion Host</td>\n",
       "      <td id=\"T_80485_row6_col1\" class=\"data row6 col1\" >bastion.fabric-testbed.net</td>\n",
       "    </tr>\n",
       "    <tr>\n",
       "      <td id=\"T_80485_row7_col0\" class=\"data row7 col0\" >Bastion Private Key Passphrase</td>\n",
       "      <td id=\"T_80485_row7_col1\" class=\"data row7 col1\" >None</td>\n",
       "    </tr>\n",
       "    <tr>\n",
       "      <td id=\"T_80485_row8_col0\" class=\"data row8 col0\" >Slice Public Key File</td>\n",
       "      <td id=\"T_80485_row8_col1\" class=\"data row8 col1\" >/home/fabric/work/fabric_config/slice_key.pub</td>\n",
       "    </tr>\n",
       "    <tr>\n",
       "      <td id=\"T_80485_row9_col0\" class=\"data row9 col0\" >Slice Private Key File</td>\n",
       "      <td id=\"T_80485_row9_col1\" class=\"data row9 col1\" >/home/fabric/work/fabric_config/slice_key</td>\n",
       "    </tr>\n",
       "    <tr>\n",
       "      <td id=\"T_80485_row10_col0\" class=\"data row10 col0\" >Slice Private Key Passphrase</td>\n",
       "      <td id=\"T_80485_row10_col1\" class=\"data row10 col1\" >None</td>\n",
       "    </tr>\n",
       "    <tr>\n",
       "      <td id=\"T_80485_row11_col0\" class=\"data row11 col0\" >Log File</td>\n",
       "      <td id=\"T_80485_row11_col1\" class=\"data row11 col1\" >/home/fabric/fablib.log</td>\n",
       "    </tr>\n",
       "    <tr>\n",
       "      <td id=\"T_80485_row12_col0\" class=\"data row12 col0\" >Log Level</td>\n",
       "      <td id=\"T_80485_row12_col1\" class=\"data row12 col1\" >INFO</td>\n",
       "    </tr>\n",
       "    <tr>\n",
       "      <td id=\"T_80485_row13_col0\" class=\"data row13 col0\" >Version</td>\n",
       "      <td id=\"T_80485_row13_col1\" class=\"data row13 col1\" >1.5.1</td>\n",
       "    </tr>\n",
       "  </tbody>\n",
       "</table>\n"
      ],
      "text/plain": [
       "<pandas.io.formats.style.Styler at 0x7f4e9f6bad30>"
      ]
     },
     "metadata": {},
     "output_type": "display_data"
    }
   ],
   "source": [
    "from fabrictestbed_extensions.fablib.fablib import FablibManager as fablib_manager\n",
    "fablib = fablib_manager() \n",
    "conf = fablib.show_config()"
   ]
  },
  {
   "cell_type": "code",
   "execution_count": 2,
   "id": "5a9654fb-18e0-4b8d-80a8-830d4e192cfd",
   "metadata": {},
   "outputs": [],
   "source": [
    "!chmod 600 {fablib.get_bastion_key_filename()}\n",
    "!chmod 600 {fablib.get_default_slice_private_key_file()}"
   ]
  },
  {
   "cell_type": "code",
   "execution_count": 3,
   "id": "b45548ff-70ed-478e-894f-cb0f2690189a",
   "metadata": {},
   "outputs": [],
   "source": [
    "import os\n",
    "slice_name=\"CongestionAvoidance_\" + os.getenv('NB_USER')"
   ]
  },
  {
   "cell_type": "code",
   "execution_count": 4,
   "id": "0188c9c0-baa4-4101-8b18-dc2ac03350a1",
   "metadata": {},
   "outputs": [
    {
     "name": "stdout",
     "output_type": "stream",
     "text": [
      "You don't have a slice named CongestionAvoidance_mim7995 yet.\n",
      "Continue to the next step to make one.\n"
     ]
    }
   ],
   "source": [
    "try:\n",
    "    slice = fablib.get_slice(slice_name)\n",
    "    print(\"You already have a slice by this name!\")\n",
    "    print(\"If you previously reserved resources, skip to the 'log in to resources' section.\")\n",
    "except:\n",
    "    print(\"You don't have a slice named %s yet.\" % slice_name)\n",
    "    print(\"Continue to the next step to make one.\")\n",
    "    slice = fablib.new_slice(name=slice_name)"
   ]
  },
  {
   "cell_type": "markdown",
   "id": "869557b7-1f15-49bc-9fe4-f241173a6358",
   "metadata": {},
   "source": [
    "Next, we’ll select a random FABRIC site for our experiment. We’ll make sure to get one that has sufficient capacity for the experiment we’re going to run.\n",
    "\n",
    "Once we find a suitable site, we’ll print details about available resources at this site."
   ]
  },
  {
   "cell_type": "code",
   "execution_count": 5,
   "id": "2013fddc-4734-4897-a694-0f19f84e8dba",
   "metadata": {},
   "outputs": [
    {
     "data": {
      "text/html": [
       "<style type=\"text/css\">\n",
       "#T_87113 tr:nth-child(even) {\n",
       "  background: #dbf3ff;\n",
       "  color: #231f20;\n",
       "}\n",
       "#T_87113 tr:nth-child(odd) {\n",
       "  background: #ffffff;\n",
       "  color: #231f20;\n",
       "}\n",
       "#T_87113 caption {\n",
       "  text-align: center;\n",
       "  font-size: 150%;\n",
       "}\n",
       "#T_87113_row0_col0, #T_87113_row0_col1, #T_87113_row1_col0, #T_87113_row1_col1, #T_87113_row2_col0, #T_87113_row2_col1, #T_87113_row3_col0, #T_87113_row3_col1, #T_87113_row4_col0, #T_87113_row4_col1, #T_87113_row5_col0, #T_87113_row5_col1, #T_87113_row6_col0, #T_87113_row6_col1, #T_87113_row7_col0, #T_87113_row7_col1, #T_87113_row8_col0, #T_87113_row8_col1, #T_87113_row9_col0, #T_87113_row9_col1, #T_87113_row10_col0, #T_87113_row10_col1, #T_87113_row11_col0, #T_87113_row11_col1, #T_87113_row12_col0, #T_87113_row12_col1, #T_87113_row13_col0, #T_87113_row13_col1, #T_87113_row14_col0, #T_87113_row14_col1, #T_87113_row15_col0, #T_87113_row15_col1, #T_87113_row16_col0, #T_87113_row16_col1, #T_87113_row17_col0, #T_87113_row17_col1, #T_87113_row18_col0, #T_87113_row18_col1, #T_87113_row19_col0, #T_87113_row19_col1, #T_87113_row20_col0, #T_87113_row20_col1, #T_87113_row21_col0, #T_87113_row21_col1, #T_87113_row22_col0, #T_87113_row22_col1, #T_87113_row23_col0, #T_87113_row23_col1, #T_87113_row24_col0, #T_87113_row24_col1, #T_87113_row25_col0, #T_87113_row25_col1, #T_87113_row26_col0, #T_87113_row26_col1, #T_87113_row27_col0, #T_87113_row27_col1, #T_87113_row28_col0, #T_87113_row28_col1, #T_87113_row29_col0, #T_87113_row29_col1, #T_87113_row30_col0, #T_87113_row30_col1, #T_87113_row31_col0, #T_87113_row31_col1, #T_87113_row32_col0, #T_87113_row32_col1, #T_87113_row33_col0, #T_87113_row33_col1, #T_87113_row34_col0, #T_87113_row34_col1, #T_87113_row35_col0, #T_87113_row35_col1, #T_87113_row36_col0, #T_87113_row36_col1, #T_87113_row37_col0, #T_87113_row37_col1, #T_87113_row38_col0, #T_87113_row38_col1, #T_87113_row39_col0, #T_87113_row39_col1, #T_87113_row40_col0, #T_87113_row40_col1, #T_87113_row41_col0, #T_87113_row41_col1 {\n",
       "  text-align: left;\n",
       "  border: 1px #231f20 solid !important;\n",
       "  overwrite: False;\n",
       "}\n",
       "</style>\n",
       "<table id=\"T_87113\">\n",
       "  <caption>Site</caption>\n",
       "  <thead>\n",
       "  </thead>\n",
       "  <tbody>\n",
       "    <tr>\n",
       "      <td id=\"T_87113_row0_col0\" class=\"data row0 col0\" >Name</td>\n",
       "      <td id=\"T_87113_row0_col1\" class=\"data row0 col1\" >CERN</td>\n",
       "    </tr>\n",
       "    <tr>\n",
       "      <td id=\"T_87113_row1_col0\" class=\"data row1 col0\" >State</td>\n",
       "      <td id=\"T_87113_row1_col1\" class=\"data row1 col1\" >Active</td>\n",
       "    </tr>\n",
       "    <tr>\n",
       "      <td id=\"T_87113_row2_col0\" class=\"data row2 col0\" >Address</td>\n",
       "      <td id=\"T_87113_row2_col1\" class=\"data row2 col1\" >Meyrin site, Auvergne-Rhone-Alpes, Metropolitan France, 01280, France</td>\n",
       "    </tr>\n",
       "    <tr>\n",
       "      <td id=\"T_87113_row3_col0\" class=\"data row3 col0\" >Location</td>\n",
       "      <td id=\"T_87113_row3_col1\" class=\"data row3 col1\" >(46.23783255, 6.048546179253215)</td>\n",
       "    </tr>\n",
       "    <tr>\n",
       "      <td id=\"T_87113_row4_col0\" class=\"data row4 col0\" >Hosts</td>\n",
       "      <td id=\"T_87113_row4_col1\" class=\"data row4 col1\" >6</td>\n",
       "    </tr>\n",
       "    <tr>\n",
       "      <td id=\"T_87113_row5_col0\" class=\"data row5 col0\" >CPUs</td>\n",
       "      <td id=\"T_87113_row5_col1\" class=\"data row5 col1\" >12</td>\n",
       "    </tr>\n",
       "    <tr>\n",
       "      <td id=\"T_87113_row6_col0\" class=\"data row6 col0\" >Cores Available</td>\n",
       "      <td id=\"T_87113_row6_col1\" class=\"data row6 col1\" >120</td>\n",
       "    </tr>\n",
       "    <tr>\n",
       "      <td id=\"T_87113_row7_col0\" class=\"data row7 col0\" >Cores Capacity</td>\n",
       "      <td id=\"T_87113_row7_col1\" class=\"data row7 col1\" >768</td>\n",
       "    </tr>\n",
       "    <tr>\n",
       "      <td id=\"T_87113_row8_col0\" class=\"data row8 col0\" >Cores Allocated</td>\n",
       "      <td id=\"T_87113_row8_col1\" class=\"data row8 col1\" >648</td>\n",
       "    </tr>\n",
       "    <tr>\n",
       "      <td id=\"T_87113_row9_col0\" class=\"data row9 col0\" >RAM Available</td>\n",
       "      <td id=\"T_87113_row9_col1\" class=\"data row9 col1\" >1644</td>\n",
       "    </tr>\n",
       "    <tr>\n",
       "      <td id=\"T_87113_row10_col0\" class=\"data row10 col0\" >RAM Capacity</td>\n",
       "      <td id=\"T_87113_row10_col1\" class=\"data row10 col1\" >3012</td>\n",
       "    </tr>\n",
       "    <tr>\n",
       "      <td id=\"T_87113_row11_col0\" class=\"data row11 col0\" >RAM Allocated</td>\n",
       "      <td id=\"T_87113_row11_col1\" class=\"data row11 col1\" >1368</td>\n",
       "    </tr>\n",
       "    <tr>\n",
       "      <td id=\"T_87113_row12_col0\" class=\"data row12 col0\" >Disk Available</td>\n",
       "      <td id=\"T_87113_row12_col1\" class=\"data row12 col1\" >45718</td>\n",
       "    </tr>\n",
       "    <tr>\n",
       "      <td id=\"T_87113_row13_col0\" class=\"data row13 col0\" >Disk Capacity</td>\n",
       "      <td id=\"T_87113_row13_col1\" class=\"data row13 col1\" >54003</td>\n",
       "    </tr>\n",
       "    <tr>\n",
       "      <td id=\"T_87113_row14_col0\" class=\"data row14 col0\" >Disk Allocated</td>\n",
       "      <td id=\"T_87113_row14_col1\" class=\"data row14 col1\" >8285</td>\n",
       "    </tr>\n",
       "    <tr>\n",
       "      <td id=\"T_87113_row15_col0\" class=\"data row15 col0\" >Basic NIC Available</td>\n",
       "      <td id=\"T_87113_row15_col1\" class=\"data row15 col1\" >716</td>\n",
       "    </tr>\n",
       "    <tr>\n",
       "      <td id=\"T_87113_row16_col0\" class=\"data row16 col0\" >Basic NIC Capacity</td>\n",
       "      <td id=\"T_87113_row16_col1\" class=\"data row16 col1\" >762</td>\n",
       "    </tr>\n",
       "    <tr>\n",
       "      <td id=\"T_87113_row17_col0\" class=\"data row17 col0\" >Basic NIC Allocated</td>\n",
       "      <td id=\"T_87113_row17_col1\" class=\"data row17 col1\" >46</td>\n",
       "    </tr>\n",
       "    <tr>\n",
       "      <td id=\"T_87113_row18_col0\" class=\"data row18 col0\" >ConnectX-6 Available</td>\n",
       "      <td id=\"T_87113_row18_col1\" class=\"data row18 col1\" >6</td>\n",
       "    </tr>\n",
       "    <tr>\n",
       "      <td id=\"T_87113_row19_col0\" class=\"data row19 col0\" >ConnectX-6 Capacity</td>\n",
       "      <td id=\"T_87113_row19_col1\" class=\"data row19 col1\" >6</td>\n",
       "    </tr>\n",
       "    <tr>\n",
       "      <td id=\"T_87113_row20_col0\" class=\"data row20 col0\" >ConnectX-6 Allocated</td>\n",
       "      <td id=\"T_87113_row20_col1\" class=\"data row20 col1\" >0</td>\n",
       "    </tr>\n",
       "    <tr>\n",
       "      <td id=\"T_87113_row21_col0\" class=\"data row21 col0\" >ConnectX-5 Available</td>\n",
       "      <td id=\"T_87113_row21_col1\" class=\"data row21 col1\" >4</td>\n",
       "    </tr>\n",
       "    <tr>\n",
       "      <td id=\"T_87113_row22_col0\" class=\"data row22 col0\" >ConnectX-5 Capacity</td>\n",
       "      <td id=\"T_87113_row22_col1\" class=\"data row22 col1\" >4</td>\n",
       "    </tr>\n",
       "    <tr>\n",
       "      <td id=\"T_87113_row23_col0\" class=\"data row23 col0\" >ConnectX-5 Allocated</td>\n",
       "      <td id=\"T_87113_row23_col1\" class=\"data row23 col1\" >0</td>\n",
       "    </tr>\n",
       "    <tr>\n",
       "      <td id=\"T_87113_row24_col0\" class=\"data row24 col0\" >NVMe Available</td>\n",
       "      <td id=\"T_87113_row24_col1\" class=\"data row24 col1\" >22</td>\n",
       "    </tr>\n",
       "    <tr>\n",
       "      <td id=\"T_87113_row25_col0\" class=\"data row25 col0\" >NVMe Capacity</td>\n",
       "      <td id=\"T_87113_row25_col1\" class=\"data row25 col1\" >22</td>\n",
       "    </tr>\n",
       "    <tr>\n",
       "      <td id=\"T_87113_row26_col0\" class=\"data row26 col0\" >NVMe Allocated</td>\n",
       "      <td id=\"T_87113_row26_col1\" class=\"data row26 col1\" >0</td>\n",
       "    </tr>\n",
       "    <tr>\n",
       "      <td id=\"T_87113_row27_col0\" class=\"data row27 col0\" >Tesla T4 Available</td>\n",
       "      <td id=\"T_87113_row27_col1\" class=\"data row27 col1\" >0</td>\n",
       "    </tr>\n",
       "    <tr>\n",
       "      <td id=\"T_87113_row28_col0\" class=\"data row28 col0\" >Tesla T4 Capacity</td>\n",
       "      <td id=\"T_87113_row28_col1\" class=\"data row28 col1\" >0</td>\n",
       "    </tr>\n",
       "    <tr>\n",
       "      <td id=\"T_87113_row29_col0\" class=\"data row29 col0\" >Tesla T4 Allocated</td>\n",
       "      <td id=\"T_87113_row29_col1\" class=\"data row29 col1\" >0</td>\n",
       "    </tr>\n",
       "    <tr>\n",
       "      <td id=\"T_87113_row30_col0\" class=\"data row30 col0\" >RTX6000 Available</td>\n",
       "      <td id=\"T_87113_row30_col1\" class=\"data row30 col1\" >0</td>\n",
       "    </tr>\n",
       "    <tr>\n",
       "      <td id=\"T_87113_row31_col0\" class=\"data row31 col0\" >RTX6000 Capacity</td>\n",
       "      <td id=\"T_87113_row31_col1\" class=\"data row31 col1\" >0</td>\n",
       "    </tr>\n",
       "    <tr>\n",
       "      <td id=\"T_87113_row32_col0\" class=\"data row32 col0\" >RTX6000 Allocated</td>\n",
       "      <td id=\"T_87113_row32_col1\" class=\"data row32 col1\" >0</td>\n",
       "    </tr>\n",
       "    <tr>\n",
       "      <td id=\"T_87113_row33_col0\" class=\"data row33 col0\" >A30 Available</td>\n",
       "      <td id=\"T_87113_row33_col1\" class=\"data row33 col1\" >5</td>\n",
       "    </tr>\n",
       "    <tr>\n",
       "      <td id=\"T_87113_row34_col0\" class=\"data row34 col0\" >A30 Capacity</td>\n",
       "      <td id=\"T_87113_row34_col1\" class=\"data row34 col1\" >5</td>\n",
       "    </tr>\n",
       "    <tr>\n",
       "      <td id=\"T_87113_row35_col0\" class=\"data row35 col0\" >A30 Allocated</td>\n",
       "      <td id=\"T_87113_row35_col1\" class=\"data row35 col1\" >0</td>\n",
       "    </tr>\n",
       "    <tr>\n",
       "      <td id=\"T_87113_row36_col0\" class=\"data row36 col0\" >A40 Available</td>\n",
       "      <td id=\"T_87113_row36_col1\" class=\"data row36 col1\" >1</td>\n",
       "    </tr>\n",
       "    <tr>\n",
       "      <td id=\"T_87113_row37_col0\" class=\"data row37 col0\" >A40 Capacity</td>\n",
       "      <td id=\"T_87113_row37_col1\" class=\"data row37 col1\" >2</td>\n",
       "    </tr>\n",
       "    <tr>\n",
       "      <td id=\"T_87113_row38_col0\" class=\"data row38 col0\" >A40 Allocated</td>\n",
       "      <td id=\"T_87113_row38_col1\" class=\"data row38 col1\" >1</td>\n",
       "    </tr>\n",
       "    <tr>\n",
       "      <td id=\"T_87113_row39_col0\" class=\"data row39 col0\" >fpga_u280_available</td>\n",
       "      <td id=\"T_87113_row39_col1\" class=\"data row39 col1\" >0</td>\n",
       "    </tr>\n",
       "    <tr>\n",
       "      <td id=\"T_87113_row40_col0\" class=\"data row40 col0\" >fpga_u280_capacity</td>\n",
       "      <td id=\"T_87113_row40_col1\" class=\"data row40 col1\" >0</td>\n",
       "    </tr>\n",
       "    <tr>\n",
       "      <td id=\"T_87113_row41_col0\" class=\"data row41 col0\" >fpga_u280_allocated</td>\n",
       "      <td id=\"T_87113_row41_col1\" class=\"data row41 col1\" >0</td>\n",
       "    </tr>\n",
       "  </tbody>\n",
       "</table>\n"
      ],
      "text/plain": [
       "<pandas.io.formats.style.Styler at 0x7f4e9c59ff70>"
      ]
     },
     "metadata": {},
     "output_type": "display_data"
    },
    {
     "data": {
      "text/plain": [
       "'<pandas.io.formats.style.Styler object at 0x7f4e9c59ff70>'"
      ]
     },
     "execution_count": 5,
     "metadata": {},
     "output_type": "execute_result"
    }
   ],
   "source": [
    "exp_requires = {'core': 3*2, 'nic': 4}\n",
    "while True:\n",
    "    site_name = fablib.get_random_site()\n",
    "    if ( (fablib.resources.get_core_available(site_name) > 1.2*exp_requires['core']) and\n",
    "        (fablib.resources.get_component_available(site_name, 'SharedNIC-ConnectX-6') > 1.2**exp_requires['nic']) ):\n",
    "        break\n",
    "\n",
    "fablib.show_site(site_name)"
   ]
  },
  {
   "cell_type": "code",
   "execution_count": 6,
   "id": "ab48cba1-68b4-4881-8a92-2cca0bbc3cd1",
   "metadata": {},
   "outputs": [],
   "source": [
    "# this cell sets up the hosts and router\n",
    "node_names = [\"juliet\", \"router\", \"romeo\"]\n",
    "for n in node_names:\n",
    "    slice.add_node(name=n, site=site_name, cores=2, ram=4, disk=10, image='default_ubuntu_20')"
   ]
  },
  {
   "cell_type": "code",
   "execution_count": 7,
   "id": "a8f72060-cb13-4117-8cfe-bd44909d8d26",
   "metadata": {},
   "outputs": [],
   "source": [
    "# this cell sets up the network links\n",
    "nets = [\n",
    "    {\"name\": \"net0\",   \"nodes\": [\"juliet\", \"router\"]},\n",
    "    {\"name\": \"net1\",  \"nodes\": [\"router\", \"romeo\"]}\n",
    "]\n",
    "for n in nets:\n",
    "    ifaces = [slice.get_node(node).add_component(model=\"NIC_Basic\", name=n[\"name\"]).get_interfaces()[0] for node in n['nodes'] ]\n",
    "    slice.add_l2network(name=n[\"name\"], type='L2Bridge', interfaces=ifaces)"
   ]
  },
  {
   "cell_type": "markdown",
   "id": "e8b6571e-0eb7-40fa-920d-f4530ab7e251",
   "metadata": {},
   "source": [
    "The following cell submits our request to the FABRIC site. The output of this cell will update automatically as the status of our request changes.\n",
    "\n",
    "While it is being prepared, the “State” of the slice will appear as “Configuring”.\n",
    "When it is ready, the “State” of the slice will change to “StableOK”."
   ]
  },
  {
   "cell_type": "code",
   "execution_count": 8,
   "id": "30b61d67-9af7-439f-9b40-80003a2f8933",
   "metadata": {},
   "outputs": [
    {
     "name": "stdout",
     "output_type": "stream",
     "text": [
      "\n",
      "Retry: 8, Time: 294 sec\n"
     ]
    },
    {
     "data": {
      "text/html": [
       "<style type=\"text/css\">\n",
       "#T_5d24b tr:nth-child(even) {\n",
       "  background: #dbf3ff;\n",
       "  color: #231f20;\n",
       "}\n",
       "#T_5d24b tr:nth-child(odd) {\n",
       "  background: #ffffff;\n",
       "  color: #231f20;\n",
       "}\n",
       "#T_5d24b caption {\n",
       "  text-align: center;\n",
       "  font-size: 150%;\n",
       "}\n",
       "#T_5d24b_row0_col0, #T_5d24b_row0_col1, #T_5d24b_row1_col0, #T_5d24b_row1_col1, #T_5d24b_row2_col0, #T_5d24b_row2_col1, #T_5d24b_row3_col0, #T_5d24b_row3_col1, #T_5d24b_row4_col0, #T_5d24b_row4_col1, #T_5d24b_row5_col0 {\n",
       "  text-align: left;\n",
       "  border: 1px #231f20 solid !important;\n",
       "  overwrite: False;\n",
       "  background-color: ;\n",
       "}\n",
       "#T_5d24b_row5_col1 {\n",
       "  text-align: left;\n",
       "  border: 1px #231f20 solid !important;\n",
       "  overwrite: False;\n",
       "  background-color: #c3ffc4;\n",
       "}\n",
       "</style>\n",
       "<table id=\"T_5d24b\">\n",
       "  <caption>Slice</caption>\n",
       "  <thead>\n",
       "  </thead>\n",
       "  <tbody>\n",
       "    <tr>\n",
       "      <td id=\"T_5d24b_row0_col0\" class=\"data row0 col0\" >ID</td>\n",
       "      <td id=\"T_5d24b_row0_col1\" class=\"data row0 col1\" >f3ec234a-a8b8-44c1-a07b-c9231897f7d3</td>\n",
       "    </tr>\n",
       "    <tr>\n",
       "      <td id=\"T_5d24b_row1_col0\" class=\"data row1 col0\" >Name</td>\n",
       "      <td id=\"T_5d24b_row1_col1\" class=\"data row1 col1\" >CongestionAvoidance_mim7995</td>\n",
       "    </tr>\n",
       "    <tr>\n",
       "      <td id=\"T_5d24b_row2_col0\" class=\"data row2 col0\" >Lease Expiration (UTC)</td>\n",
       "      <td id=\"T_5d24b_row2_col1\" class=\"data row2 col1\" >2023-07-19 11:58:03 +0000</td>\n",
       "    </tr>\n",
       "    <tr>\n",
       "      <td id=\"T_5d24b_row3_col0\" class=\"data row3 col0\" >Lease Start (UTC)</td>\n",
       "      <td id=\"T_5d24b_row3_col1\" class=\"data row3 col1\" >2023-07-18 11:58:03 +0000</td>\n",
       "    </tr>\n",
       "    <tr>\n",
       "      <td id=\"T_5d24b_row4_col0\" class=\"data row4 col0\" >Project ID</td>\n",
       "      <td id=\"T_5d24b_row4_col1\" class=\"data row4 col1\" >40ba6253-c257-4d9c-8658-7406bb437eb5</td>\n",
       "    </tr>\n",
       "    <tr>\n",
       "      <td id=\"T_5d24b_row5_col0\" class=\"data row5 col0\" >State</td>\n",
       "      <td id=\"T_5d24b_row5_col1\" class=\"data row5 col1\" >StableOK</td>\n",
       "    </tr>\n",
       "  </tbody>\n",
       "</table>\n"
      ],
      "text/plain": [
       "<pandas.io.formats.style.Styler at 0x7f4e9c5bc700>"
      ]
     },
     "metadata": {},
     "output_type": "display_data"
    },
    {
     "data": {
      "text/html": [
       "<style type=\"text/css\">\n",
       "#T_06261 caption {\n",
       "  text-align: center;\n",
       "  font-size: 150%;\n",
       "  caption-side: top;\n",
       "}\n",
       "#T_06261 th {\n",
       "  text-align: left;\n",
       "}\n",
       "#T_06261 tr:nth-child(even) {\n",
       "  background: #ffffff;\n",
       "  color: #231f20;\n",
       "}\n",
       "#T_06261 tr:nth-child(odd) {\n",
       "  background: #dbf3ff;\n",
       "  color: #231f20;\n",
       "}\n",
       "#T_06261 .level0 {\n",
       "  border: 1px black solid !important;\n",
       "  background: #ffffff;\n",
       "  color: #231f20;\n",
       "}\n",
       "#T_06261_row0_col0, #T_06261_row0_col1, #T_06261_row0_col2, #T_06261_row0_col3, #T_06261_row0_col4, #T_06261_row0_col5, #T_06261_row0_col6, #T_06261_row0_col7, #T_06261_row0_col8, #T_06261_row0_col9, #T_06261_row0_col10, #T_06261_row0_col13, #T_06261_row0_col14, #T_06261_row0_col15, #T_06261_row1_col0, #T_06261_row1_col1, #T_06261_row1_col2, #T_06261_row1_col3, #T_06261_row1_col4, #T_06261_row1_col5, #T_06261_row1_col6, #T_06261_row1_col7, #T_06261_row1_col8, #T_06261_row1_col9, #T_06261_row1_col10, #T_06261_row1_col13, #T_06261_row1_col14, #T_06261_row1_col15, #T_06261_row2_col0, #T_06261_row2_col1, #T_06261_row2_col2, #T_06261_row2_col3, #T_06261_row2_col4, #T_06261_row2_col5, #T_06261_row2_col6, #T_06261_row2_col7, #T_06261_row2_col8, #T_06261_row2_col9, #T_06261_row2_col10, #T_06261_row2_col13, #T_06261_row2_col14, #T_06261_row2_col15 {\n",
       "  text-align: left;\n",
       "  border: 1px #231f20 solid !important;\n",
       "  overwrite: False;\n",
       "}\n",
       "#T_06261_row0_col11, #T_06261_row1_col11, #T_06261_row2_col11 {\n",
       "  text-align: left;\n",
       "  border: 1px #231f20 solid !important;\n",
       "  overwrite: False;\n",
       "  background-color: #c3ffc4;\n",
       "}\n",
       "#T_06261_row0_col12, #T_06261_row1_col12, #T_06261_row2_col12 {\n",
       "  text-align: left;\n",
       "  border: 1px #231f20 solid !important;\n",
       "  overwrite: False;\n",
       "  background-color: ;\n",
       "}\n",
       "</style>\n",
       "<table id=\"T_06261\">\n",
       "  <caption>Nodes</caption>\n",
       "  <thead>\n",
       "    <tr>\n",
       "      <th id=\"T_06261_level0_col0\" class=\"col_heading level0 col0\" >ID</th>\n",
       "      <th id=\"T_06261_level0_col1\" class=\"col_heading level0 col1\" >Name</th>\n",
       "      <th id=\"T_06261_level0_col2\" class=\"col_heading level0 col2\" >Cores</th>\n",
       "      <th id=\"T_06261_level0_col3\" class=\"col_heading level0 col3\" >RAM</th>\n",
       "      <th id=\"T_06261_level0_col4\" class=\"col_heading level0 col4\" >Disk</th>\n",
       "      <th id=\"T_06261_level0_col5\" class=\"col_heading level0 col5\" >Image</th>\n",
       "      <th id=\"T_06261_level0_col6\" class=\"col_heading level0 col6\" >Image Type</th>\n",
       "      <th id=\"T_06261_level0_col7\" class=\"col_heading level0 col7\" >Host</th>\n",
       "      <th id=\"T_06261_level0_col8\" class=\"col_heading level0 col8\" >Site</th>\n",
       "      <th id=\"T_06261_level0_col9\" class=\"col_heading level0 col9\" >Username</th>\n",
       "      <th id=\"T_06261_level0_col10\" class=\"col_heading level0 col10\" >Management IP</th>\n",
       "      <th id=\"T_06261_level0_col11\" class=\"col_heading level0 col11\" >State</th>\n",
       "      <th id=\"T_06261_level0_col12\" class=\"col_heading level0 col12\" >Error</th>\n",
       "      <th id=\"T_06261_level0_col13\" class=\"col_heading level0 col13\" >SSH Command</th>\n",
       "      <th id=\"T_06261_level0_col14\" class=\"col_heading level0 col14\" >Public SSH Key File</th>\n",
       "      <th id=\"T_06261_level0_col15\" class=\"col_heading level0 col15\" >Private SSH Key File</th>\n",
       "    </tr>\n",
       "  </thead>\n",
       "  <tbody>\n",
       "    <tr>\n",
       "      <td id=\"T_06261_row0_col0\" class=\"data row0 col0\" >3c05620a-6b16-4160-95ee-353d070b82ad</td>\n",
       "      <td id=\"T_06261_row0_col1\" class=\"data row0 col1\" >juliet</td>\n",
       "      <td id=\"T_06261_row0_col2\" class=\"data row0 col2\" >2</td>\n",
       "      <td id=\"T_06261_row0_col3\" class=\"data row0 col3\" >4</td>\n",
       "      <td id=\"T_06261_row0_col4\" class=\"data row0 col4\" >10</td>\n",
       "      <td id=\"T_06261_row0_col5\" class=\"data row0 col5\" >default_ubuntu_20</td>\n",
       "      <td id=\"T_06261_row0_col6\" class=\"data row0 col6\" >qcow2</td>\n",
       "      <td id=\"T_06261_row0_col7\" class=\"data row0 col7\" >cern-w2.fabric-testbed.net</td>\n",
       "      <td id=\"T_06261_row0_col8\" class=\"data row0 col8\" >CERN</td>\n",
       "      <td id=\"T_06261_row0_col9\" class=\"data row0 col9\" >ubuntu</td>\n",
       "      <td id=\"T_06261_row0_col10\" class=\"data row0 col10\" >2001:400:a100:3090:f816:3eff:fe9d:63ae</td>\n",
       "      <td id=\"T_06261_row0_col11\" class=\"data row0 col11\" >Active</td>\n",
       "      <td id=\"T_06261_row0_col12\" class=\"data row0 col12\" ></td>\n",
       "      <td id=\"T_06261_row0_col13\" class=\"data row0 col13\" >ssh -i /home/fabric/work/fabric_config/slice_key -F /home/fabric/work/fabric_config/ssh_config ubuntu@2001:400:a100:3090:f816:3eff:fe9d:63ae</td>\n",
       "      <td id=\"T_06261_row0_col14\" class=\"data row0 col14\" >/home/fabric/work/fabric_config/slice_key.pub</td>\n",
       "      <td id=\"T_06261_row0_col15\" class=\"data row0 col15\" >/home/fabric/work/fabric_config/slice_key</td>\n",
       "    </tr>\n",
       "    <tr>\n",
       "      <td id=\"T_06261_row1_col0\" class=\"data row1 col0\" >b39283dc-78d7-48c0-9865-737ea8e31650</td>\n",
       "      <td id=\"T_06261_row1_col1\" class=\"data row1 col1\" >romeo</td>\n",
       "      <td id=\"T_06261_row1_col2\" class=\"data row1 col2\" >2</td>\n",
       "      <td id=\"T_06261_row1_col3\" class=\"data row1 col3\" >4</td>\n",
       "      <td id=\"T_06261_row1_col4\" class=\"data row1 col4\" >10</td>\n",
       "      <td id=\"T_06261_row1_col5\" class=\"data row1 col5\" >default_ubuntu_20</td>\n",
       "      <td id=\"T_06261_row1_col6\" class=\"data row1 col6\" >qcow2</td>\n",
       "      <td id=\"T_06261_row1_col7\" class=\"data row1 col7\" >cern-w2.fabric-testbed.net</td>\n",
       "      <td id=\"T_06261_row1_col8\" class=\"data row1 col8\" >CERN</td>\n",
       "      <td id=\"T_06261_row1_col9\" class=\"data row1 col9\" >ubuntu</td>\n",
       "      <td id=\"T_06261_row1_col10\" class=\"data row1 col10\" >2001:400:a100:3090:f816:3eff:fe16:2c2e</td>\n",
       "      <td id=\"T_06261_row1_col11\" class=\"data row1 col11\" >Active</td>\n",
       "      <td id=\"T_06261_row1_col12\" class=\"data row1 col12\" ></td>\n",
       "      <td id=\"T_06261_row1_col13\" class=\"data row1 col13\" >ssh -i /home/fabric/work/fabric_config/slice_key -F /home/fabric/work/fabric_config/ssh_config ubuntu@2001:400:a100:3090:f816:3eff:fe16:2c2e</td>\n",
       "      <td id=\"T_06261_row1_col14\" class=\"data row1 col14\" >/home/fabric/work/fabric_config/slice_key.pub</td>\n",
       "      <td id=\"T_06261_row1_col15\" class=\"data row1 col15\" >/home/fabric/work/fabric_config/slice_key</td>\n",
       "    </tr>\n",
       "    <tr>\n",
       "      <td id=\"T_06261_row2_col0\" class=\"data row2 col0\" >d2b5c64a-fce8-4a57-b3c0-9f538a6c4d22</td>\n",
       "      <td id=\"T_06261_row2_col1\" class=\"data row2 col1\" >router</td>\n",
       "      <td id=\"T_06261_row2_col2\" class=\"data row2 col2\" >2</td>\n",
       "      <td id=\"T_06261_row2_col3\" class=\"data row2 col3\" >4</td>\n",
       "      <td id=\"T_06261_row2_col4\" class=\"data row2 col4\" >10</td>\n",
       "      <td id=\"T_06261_row2_col5\" class=\"data row2 col5\" >default_ubuntu_20</td>\n",
       "      <td id=\"T_06261_row2_col6\" class=\"data row2 col6\" >qcow2</td>\n",
       "      <td id=\"T_06261_row2_col7\" class=\"data row2 col7\" >cern-w5.fabric-testbed.net</td>\n",
       "      <td id=\"T_06261_row2_col8\" class=\"data row2 col8\" >CERN</td>\n",
       "      <td id=\"T_06261_row2_col9\" class=\"data row2 col9\" >ubuntu</td>\n",
       "      <td id=\"T_06261_row2_col10\" class=\"data row2 col10\" >2001:400:a100:3090:f816:3eff:fea7:b0c9</td>\n",
       "      <td id=\"T_06261_row2_col11\" class=\"data row2 col11\" >Active</td>\n",
       "      <td id=\"T_06261_row2_col12\" class=\"data row2 col12\" ></td>\n",
       "      <td id=\"T_06261_row2_col13\" class=\"data row2 col13\" >ssh -i /home/fabric/work/fabric_config/slice_key -F /home/fabric/work/fabric_config/ssh_config ubuntu@2001:400:a100:3090:f816:3eff:fea7:b0c9</td>\n",
       "      <td id=\"T_06261_row2_col14\" class=\"data row2 col14\" >/home/fabric/work/fabric_config/slice_key.pub</td>\n",
       "      <td id=\"T_06261_row2_col15\" class=\"data row2 col15\" >/home/fabric/work/fabric_config/slice_key</td>\n",
       "    </tr>\n",
       "  </tbody>\n",
       "</table>\n"
      ],
      "text/plain": [
       "<pandas.io.formats.style.Styler at 0x7f4e9c08ae20>"
      ]
     },
     "metadata": {},
     "output_type": "display_data"
    },
    {
     "data": {
      "text/html": [
       "<style type=\"text/css\">\n",
       "#T_d38f5 caption {\n",
       "  text-align: center;\n",
       "  font-size: 150%;\n",
       "  caption-side: top;\n",
       "}\n",
       "#T_d38f5 th {\n",
       "  text-align: left;\n",
       "}\n",
       "#T_d38f5 tr:nth-child(even) {\n",
       "  background: #ffffff;\n",
       "  color: #231f20;\n",
       "}\n",
       "#T_d38f5 tr:nth-child(odd) {\n",
       "  background: #dbf3ff;\n",
       "  color: #231f20;\n",
       "}\n",
       "#T_d38f5 .level0 {\n",
       "  border: 1px black solid !important;\n",
       "  background: #ffffff;\n",
       "  color: #231f20;\n",
       "}\n",
       "#T_d38f5_row0_col0, #T_d38f5_row0_col1, #T_d38f5_row0_col2, #T_d38f5_row0_col3, #T_d38f5_row0_col4, #T_d38f5_row0_col5, #T_d38f5_row0_col6, #T_d38f5_row1_col0, #T_d38f5_row1_col1, #T_d38f5_row1_col2, #T_d38f5_row1_col3, #T_d38f5_row1_col4, #T_d38f5_row1_col5, #T_d38f5_row1_col6 {\n",
       "  text-align: left;\n",
       "  border: 1px #231f20 solid !important;\n",
       "  overwrite: False;\n",
       "}\n",
       "#T_d38f5_row0_col7, #T_d38f5_row1_col7 {\n",
       "  text-align: left;\n",
       "  border: 1px #231f20 solid !important;\n",
       "  overwrite: False;\n",
       "  background-color: #c3ffc4;\n",
       "}\n",
       "#T_d38f5_row0_col8, #T_d38f5_row1_col8 {\n",
       "  text-align: left;\n",
       "  border: 1px #231f20 solid !important;\n",
       "  overwrite: False;\n",
       "  background-color: ;\n",
       "}\n",
       "</style>\n",
       "<table id=\"T_d38f5\">\n",
       "  <caption>Networks</caption>\n",
       "  <thead>\n",
       "    <tr>\n",
       "      <th id=\"T_d38f5_level0_col0\" class=\"col_heading level0 col0\" >ID</th>\n",
       "      <th id=\"T_d38f5_level0_col1\" class=\"col_heading level0 col1\" >Name</th>\n",
       "      <th id=\"T_d38f5_level0_col2\" class=\"col_heading level0 col2\" >Layer</th>\n",
       "      <th id=\"T_d38f5_level0_col3\" class=\"col_heading level0 col3\" >Type</th>\n",
       "      <th id=\"T_d38f5_level0_col4\" class=\"col_heading level0 col4\" >Site</th>\n",
       "      <th id=\"T_d38f5_level0_col5\" class=\"col_heading level0 col5\" >Subnet</th>\n",
       "      <th id=\"T_d38f5_level0_col6\" class=\"col_heading level0 col6\" >Gateway</th>\n",
       "      <th id=\"T_d38f5_level0_col7\" class=\"col_heading level0 col7\" >State</th>\n",
       "      <th id=\"T_d38f5_level0_col8\" class=\"col_heading level0 col8\" >Error</th>\n",
       "    </tr>\n",
       "  </thead>\n",
       "  <tbody>\n",
       "    <tr>\n",
       "      <td id=\"T_d38f5_row0_col0\" class=\"data row0 col0\" >729edd1a-aef6-410f-a9e0-dc7f42e9a687</td>\n",
       "      <td id=\"T_d38f5_row0_col1\" class=\"data row0 col1\" >net0</td>\n",
       "      <td id=\"T_d38f5_row0_col2\" class=\"data row0 col2\" >L2</td>\n",
       "      <td id=\"T_d38f5_row0_col3\" class=\"data row0 col3\" >L2Bridge</td>\n",
       "      <td id=\"T_d38f5_row0_col4\" class=\"data row0 col4\" >CERN</td>\n",
       "      <td id=\"T_d38f5_row0_col5\" class=\"data row0 col5\" >None</td>\n",
       "      <td id=\"T_d38f5_row0_col6\" class=\"data row0 col6\" >None</td>\n",
       "      <td id=\"T_d38f5_row0_col7\" class=\"data row0 col7\" >Active</td>\n",
       "      <td id=\"T_d38f5_row0_col8\" class=\"data row0 col8\" ></td>\n",
       "    </tr>\n",
       "    <tr>\n",
       "      <td id=\"T_d38f5_row1_col0\" class=\"data row1 col0\" >3bdd57ff-e299-4949-854b-4ce5f560bd6f</td>\n",
       "      <td id=\"T_d38f5_row1_col1\" class=\"data row1 col1\" >net1</td>\n",
       "      <td id=\"T_d38f5_row1_col2\" class=\"data row1 col2\" >L2</td>\n",
       "      <td id=\"T_d38f5_row1_col3\" class=\"data row1 col3\" >L2Bridge</td>\n",
       "      <td id=\"T_d38f5_row1_col4\" class=\"data row1 col4\" >CERN</td>\n",
       "      <td id=\"T_d38f5_row1_col5\" class=\"data row1 col5\" >None</td>\n",
       "      <td id=\"T_d38f5_row1_col6\" class=\"data row1 col6\" >None</td>\n",
       "      <td id=\"T_d38f5_row1_col7\" class=\"data row1 col7\" >Active</td>\n",
       "      <td id=\"T_d38f5_row1_col8\" class=\"data row1 col8\" ></td>\n",
       "    </tr>\n",
       "  </tbody>\n",
       "</table>\n"
      ],
      "text/plain": [
       "<pandas.io.formats.style.Styler at 0x7f4e9c5d0eb0>"
      ]
     },
     "metadata": {},
     "output_type": "display_data"
    },
    {
     "data": {
      "text/html": [
       "<style type=\"text/css\">\n",
       "#T_264de caption {\n",
       "  text-align: center;\n",
       "  font-size: 150%;\n",
       "  caption-side: top;\n",
       "}\n",
       "#T_264de th {\n",
       "  text-align: left;\n",
       "}\n",
       "#T_264de tr:nth-child(even) {\n",
       "  background: #ffffff;\n",
       "  color: #231f20;\n",
       "}\n",
       "#T_264de tr:nth-child(odd) {\n",
       "  background: #dbf3ff;\n",
       "  color: #231f20;\n",
       "}\n",
       "#T_264de .level0 {\n",
       "  border: 1px black solid !important;\n",
       "  background: #ffffff;\n",
       "  color: #231f20;\n",
       "}\n",
       "#T_264de_row0_col0, #T_264de_row0_col1, #T_264de_row0_col2, #T_264de_row0_col3, #T_264de_row0_col4, #T_264de_row0_col5, #T_264de_row0_col6, #T_264de_row0_col7, #T_264de_row0_col8, #T_264de_row0_col9, #T_264de_row0_col10, #T_264de_row0_col11, #T_264de_row1_col0, #T_264de_row1_col1, #T_264de_row1_col2, #T_264de_row1_col3, #T_264de_row1_col4, #T_264de_row1_col5, #T_264de_row1_col6, #T_264de_row1_col7, #T_264de_row1_col8, #T_264de_row1_col9, #T_264de_row1_col10, #T_264de_row1_col11, #T_264de_row2_col0, #T_264de_row2_col1, #T_264de_row2_col2, #T_264de_row2_col3, #T_264de_row2_col4, #T_264de_row2_col5, #T_264de_row2_col6, #T_264de_row2_col7, #T_264de_row2_col8, #T_264de_row2_col9, #T_264de_row2_col10, #T_264de_row2_col11, #T_264de_row3_col0, #T_264de_row3_col1, #T_264de_row3_col2, #T_264de_row3_col3, #T_264de_row3_col4, #T_264de_row3_col5, #T_264de_row3_col6, #T_264de_row3_col7, #T_264de_row3_col8, #T_264de_row3_col9, #T_264de_row3_col10, #T_264de_row3_col11 {\n",
       "  text-align: left;\n",
       "  border: 1px #231f20 solid !important;\n",
       "  overwrite: False;\n",
       "}\n",
       "</style>\n",
       "<table id=\"T_264de\">\n",
       "  <caption>Interfaces</caption>\n",
       "  <thead>\n",
       "    <tr>\n",
       "      <th id=\"T_264de_level0_col0\" class=\"col_heading level0 col0\" >Name</th>\n",
       "      <th id=\"T_264de_level0_col1\" class=\"col_heading level0 col1\" >Short Name</th>\n",
       "      <th id=\"T_264de_level0_col2\" class=\"col_heading level0 col2\" >Node</th>\n",
       "      <th id=\"T_264de_level0_col3\" class=\"col_heading level0 col3\" >Network</th>\n",
       "      <th id=\"T_264de_level0_col4\" class=\"col_heading level0 col4\" >Bandwidth</th>\n",
       "      <th id=\"T_264de_level0_col5\" class=\"col_heading level0 col5\" >Mode</th>\n",
       "      <th id=\"T_264de_level0_col6\" class=\"col_heading level0 col6\" >VLAN</th>\n",
       "      <th id=\"T_264de_level0_col7\" class=\"col_heading level0 col7\" >MAC</th>\n",
       "      <th id=\"T_264de_level0_col8\" class=\"col_heading level0 col8\" >Physical Device</th>\n",
       "      <th id=\"T_264de_level0_col9\" class=\"col_heading level0 col9\" >Device</th>\n",
       "      <th id=\"T_264de_level0_col10\" class=\"col_heading level0 col10\" >IP Address</th>\n",
       "      <th id=\"T_264de_level0_col11\" class=\"col_heading level0 col11\" >Numa Node</th>\n",
       "    </tr>\n",
       "  </thead>\n",
       "  <tbody>\n",
       "    <tr>\n",
       "      <td id=\"T_264de_row0_col0\" class=\"data row0 col0\" >juliet-net0-p1</td>\n",
       "      <td id=\"T_264de_row0_col1\" class=\"data row0 col1\" >p1</td>\n",
       "      <td id=\"T_264de_row0_col2\" class=\"data row0 col2\" >juliet</td>\n",
       "      <td id=\"T_264de_row0_col3\" class=\"data row0 col3\" >net0</td>\n",
       "      <td id=\"T_264de_row0_col4\" class=\"data row0 col4\" >100</td>\n",
       "      <td id=\"T_264de_row0_col5\" class=\"data row0 col5\" >config</td>\n",
       "      <td id=\"T_264de_row0_col6\" class=\"data row0 col6\" ></td>\n",
       "      <td id=\"T_264de_row0_col7\" class=\"data row0 col7\" >0E:D9:C9:B3:C3:76</td>\n",
       "      <td id=\"T_264de_row0_col8\" class=\"data row0 col8\" >ens7</td>\n",
       "      <td id=\"T_264de_row0_col9\" class=\"data row0 col9\" >ens7</td>\n",
       "      <td id=\"T_264de_row0_col10\" class=\"data row0 col10\" >None</td>\n",
       "      <td id=\"T_264de_row0_col11\" class=\"data row0 col11\" >4</td>\n",
       "    </tr>\n",
       "    <tr>\n",
       "      <td id=\"T_264de_row1_col0\" class=\"data row1 col0\" >router-net0-p1</td>\n",
       "      <td id=\"T_264de_row1_col1\" class=\"data row1 col1\" >p1</td>\n",
       "      <td id=\"T_264de_row1_col2\" class=\"data row1 col2\" >router</td>\n",
       "      <td id=\"T_264de_row1_col3\" class=\"data row1 col3\" >net0</td>\n",
       "      <td id=\"T_264de_row1_col4\" class=\"data row1 col4\" >100</td>\n",
       "      <td id=\"T_264de_row1_col5\" class=\"data row1 col5\" >config</td>\n",
       "      <td id=\"T_264de_row1_col6\" class=\"data row1 col6\" ></td>\n",
       "      <td id=\"T_264de_row1_col7\" class=\"data row1 col7\" >16:4C:CA:94:B9:B2</td>\n",
       "      <td id=\"T_264de_row1_col8\" class=\"data row1 col8\" >ens8</td>\n",
       "      <td id=\"T_264de_row1_col9\" class=\"data row1 col9\" >ens8</td>\n",
       "      <td id=\"T_264de_row1_col10\" class=\"data row1 col10\" >None</td>\n",
       "      <td id=\"T_264de_row1_col11\" class=\"data row1 col11\" >4</td>\n",
       "    </tr>\n",
       "    <tr>\n",
       "      <td id=\"T_264de_row2_col0\" class=\"data row2 col0\" >router-net1-p1</td>\n",
       "      <td id=\"T_264de_row2_col1\" class=\"data row2 col1\" >p1</td>\n",
       "      <td id=\"T_264de_row2_col2\" class=\"data row2 col2\" >router</td>\n",
       "      <td id=\"T_264de_row2_col3\" class=\"data row2 col3\" >net1</td>\n",
       "      <td id=\"T_264de_row2_col4\" class=\"data row2 col4\" >100</td>\n",
       "      <td id=\"T_264de_row2_col5\" class=\"data row2 col5\" >config</td>\n",
       "      <td id=\"T_264de_row2_col6\" class=\"data row2 col6\" ></td>\n",
       "      <td id=\"T_264de_row2_col7\" class=\"data row2 col7\" >0E:E6:8D:DD:E7:2C</td>\n",
       "      <td id=\"T_264de_row2_col8\" class=\"data row2 col8\" >ens7</td>\n",
       "      <td id=\"T_264de_row2_col9\" class=\"data row2 col9\" >ens7</td>\n",
       "      <td id=\"T_264de_row2_col10\" class=\"data row2 col10\" >None</td>\n",
       "      <td id=\"T_264de_row2_col11\" class=\"data row2 col11\" >4</td>\n",
       "    </tr>\n",
       "    <tr>\n",
       "      <td id=\"T_264de_row3_col0\" class=\"data row3 col0\" >romeo-net1-p1</td>\n",
       "      <td id=\"T_264de_row3_col1\" class=\"data row3 col1\" >p1</td>\n",
       "      <td id=\"T_264de_row3_col2\" class=\"data row3 col2\" >romeo</td>\n",
       "      <td id=\"T_264de_row3_col3\" class=\"data row3 col3\" >net1</td>\n",
       "      <td id=\"T_264de_row3_col4\" class=\"data row3 col4\" >100</td>\n",
       "      <td id=\"T_264de_row3_col5\" class=\"data row3 col5\" >config</td>\n",
       "      <td id=\"T_264de_row3_col6\" class=\"data row3 col6\" ></td>\n",
       "      <td id=\"T_264de_row3_col7\" class=\"data row3 col7\" >12:2A:3F:58:CA:55</td>\n",
       "      <td id=\"T_264de_row3_col8\" class=\"data row3 col8\" >ens7</td>\n",
       "      <td id=\"T_264de_row3_col9\" class=\"data row3 col9\" >ens7</td>\n",
       "      <td id=\"T_264de_row3_col10\" class=\"data row3 col10\" >None</td>\n",
       "      <td id=\"T_264de_row3_col11\" class=\"data row3 col11\" >4</td>\n",
       "    </tr>\n",
       "  </tbody>\n",
       "</table>\n"
      ],
      "text/plain": [
       "<pandas.io.formats.style.Styler at 0x7f4e9c08faf0>"
      ]
     },
     "metadata": {},
     "output_type": "display_data"
    },
    {
     "name": "stdout",
     "output_type": "stream",
     "text": [
      "\n",
      "Time to print interfaces 302 seconds\n"
     ]
    },
    {
     "data": {
      "text/plain": [
       "'f3ec234a-a8b8-44c1-a07b-c9231897f7d3'"
      ]
     },
     "execution_count": 8,
     "metadata": {},
     "output_type": "execute_result"
    }
   ],
   "source": [
    "slice.submit()"
   ]
  },
  {
   "cell_type": "code",
   "execution_count": 9,
   "id": "f537b28b-3436-4d69-9928-80eaa602998c",
   "metadata": {},
   "outputs": [
    {
     "name": "stdout",
     "output_type": "stream",
     "text": [
      "Waiting for slice . Slice state: StableOK\n",
      "Waiting for ssh in slice . ssh successful\n"
     ]
    },
    {
     "data": {
      "text/plain": [
       "True"
      ]
     },
     "execution_count": 9,
     "metadata": {},
     "output_type": "execute_result"
    }
   ],
   "source": [
    "slice.wait_ssh(progress=True)"
   ]
  },
  {
   "cell_type": "markdown",
   "id": "46f44b64-99a5-4cf0-bc5f-cf2278511d64",
   "metadata": {},
   "source": [
    "### Exercise: Configure resources\n",
    "\n",
    "Next, we need to configure our resources - assign IP addresses to network interfaces, enable forwarding on the router, and install any necessary software.\n",
    "\n",
    "First, we’ll configure IP addresses and add the IP addresses and hostnames to the host files:"
   ]
  },
  {
   "cell_type": "code",
   "execution_count": 10,
   "id": "1a53c391-35ca-4e3b-9e45-4466d2349267",
   "metadata": {},
   "outputs": [
    {
     "data": {
      "text/plain": [
       "('', '')"
      ]
     },
     "execution_count": 10,
     "metadata": {},
     "output_type": "execute_result"
    }
   ],
   "source": [
    "from ipaddress import ip_address, IPv4Address, IPv4Network\n",
    "\n",
    "if_conf = {\n",
    "    \"romeo-net1-p1\":   {\"addr\": \"10.10.1.100\", \"subnet\": \"10.10.1.0/24\", \"hostname\": \"romeo\"},\n",
    "    \"router-net1-p1\":  {\"addr\": \"10.10.1.1\", \"subnet\": \"10.10.1.0/24\", \"hostname\": \"router\"},\n",
    "    \"router-net0-p1\":  {\"addr\": \"10.10.2.1\", \"subnet\": \"10.10.2.0/24\", \"hostname\": \"router\"},\n",
    "    \"juliet-net0-p1\":  {\"addr\": \"10.10.2.100\", \"subnet\": \"10.10.2.0/24\", \"hostname\": \"juliet\"}\n",
    "}\n",
    "\n",
    "for iface in slice.get_interfaces():\n",
    "    if_name = iface.get_name()\n",
    "    hostname = if_conf[if_name]['hostname']\n",
    "    iface.ip_addr_add(addr=if_conf[if_name]['addr'], subnet=IPv4Network(if_conf[if_name]['subnet']))\n",
    "    \n",
    "\n",
    "slice.get_node(name='romeo').execute(f\"echo '{if_conf['juliet-net0-p1']['addr']}\\t{if_conf['juliet-net0-p1']['hostname']}' | sudo tee -a /etc/hosts > /dev/null\")\n",
    "slice.get_node(name='juliet').execute(f\"echo '{if_conf['romeo-net1-p1']['addr']}\\t{if_conf['romeo-net1-p1']['hostname']}' | sudo tee -a /etc/hosts > /dev/null\")\n",
    "slice.get_node(name='router').execute(f\"echo '{if_conf['romeo-net1-p1']['addr']}\\t{if_conf['romeo-net1-p1']['hostname']}' | sudo tee -a /etc/hosts > /dev/null\")\n",
    "slice.get_node(name='router').execute(f\"echo '{if_conf['juliet-net0-p1']['addr']}\\t{if_conf['juliet-net0-p1']['hostname']}' | sudo tee -a /etc/hosts > /dev/null\")"
   ]
  },
  {
   "cell_type": "markdown",
   "id": "914ccc59-85c0-4316-b2a7-ce98e976c4d0",
   "metadata": {},
   "source": [
    "Let’s make sure that all of the network interfaces are brought up:"
   ]
  },
  {
   "cell_type": "code",
   "execution_count": 11,
   "id": "a05bc426-2727-497d-b7e3-87b5e012e679",
   "metadata": {},
   "outputs": [],
   "source": [
    "for iface in slice.get_interfaces():\n",
    "    iface.ip_link_up()"
   ]
  },
  {
   "cell_type": "markdown",
   "id": "bae166d7-3021-4b04-afac-b19b417ae424",
   "metadata": {},
   "source": [
    "And, we’ll enable IP forwarding on the router:"
   ]
  },
  {
   "cell_type": "code",
   "execution_count": 12,
   "id": "01731641-d2d4-4a3b-98b2-f1b8d8566eef",
   "metadata": {},
   "outputs": [
    {
     "name": "stdout",
     "output_type": "stream",
     "text": [
      "net.ipv4.ip_forward = 1\n"
     ]
    }
   ],
   "source": [
    "for n in ['router']:\n",
    "    slice.get_node(name=n).execute(\"sudo sysctl -w net.ipv4.ip_forward=1\")"
   ]
  },
  {
   "cell_type": "markdown",
   "id": "e1f2f6bf-2358-4a59-a9e0-16fa7e00c527",
   "metadata": {},
   "source": [
    "Then, we’ll add routes so that romeo knows how to reach juliet, and vice versa."
   ]
  },
  {
   "cell_type": "code",
   "execution_count": 13,
   "id": "b0c505ab-0d7b-4819-9e21-7a45c78c3379",
   "metadata": {},
   "outputs": [],
   "source": [
    "rt_conf = [\n",
    "    {\"name\": \"romeo\",   \"addr\": \"10.10.2.0/24\", \"gw\": \"10.10.1.1\"},\n",
    "    {\"name\": \"juliet\",  \"addr\": \"10.10.1.0/24\", \"gw\": \"10.10.2.1\"}\n",
    "]\n",
    "for rt in rt_conf:\n",
    "    slice.get_node(name=rt['name']).ip_route_add(subnet=IPv4Network(rt['addr']), gateway=rt['gw'])\n"
   ]
  },
  {
   "cell_type": "markdown",
   "id": "b7333505-487f-457a-b9bd-7d6d0226ad16",
   "metadata": {},
   "source": [
    "Finally, we’ll install some software. For this experiment, we will need to install the net-tools package (which provides the ifconfig command)."
   ]
  },
  {
   "cell_type": "code",
   "execution_count": 14,
   "id": "cd5949a3-a1f9-4eaf-bcd6-87184b162214",
   "metadata": {},
   "outputs": [],
   "source": [
    "for n in ['romeo', 'router', 'juliet']:\n",
    "    slice.get_node(name=n).execute(\"sudo apt update; sudo apt -y install net-tools\", quiet=True)"
   ]
  },
  {
   "cell_type": "markdown",
   "id": "0fe6c2a5-fcae-4329-84d2-45dba9f2108f",
   "metadata": {},
   "source": [
    "### Exercise: Log in to resources\n",
    "Now, we are finally ready to log in to our resources over SSH! Run the following cells, and observe the table output - you will see an SSH command for each of the nodes in your topology."
   ]
  },
  {
   "cell_type": "code",
   "execution_count": 15,
   "id": "fbe4d79b-a1e9-4e5a-bb2e-de5353617fae",
   "metadata": {},
   "outputs": [
    {
     "data": {
      "text/html": [
       "<div>\n",
       "<style scoped>\n",
       "    .dataframe tbody tr th:only-of-type {\n",
       "        vertical-align: middle;\n",
       "    }\n",
       "\n",
       "    .dataframe tbody tr th {\n",
       "        vertical-align: top;\n",
       "    }\n",
       "\n",
       "    .dataframe thead th {\n",
       "        text-align: right;\n",
       "    }\n",
       "</style>\n",
       "<table border=\"1\" class=\"dataframe\">\n",
       "  <thead>\n",
       "    <tr style=\"text-align: right;\">\n",
       "      <th></th>\n",
       "      <th>SSH command</th>\n",
       "    </tr>\n",
       "    <tr>\n",
       "      <th>Name</th>\n",
       "      <th></th>\n",
       "    </tr>\n",
       "  </thead>\n",
       "  <tbody>\n",
       "    <tr>\n",
       "      <th>juliet</th>\n",
       "      <td>ssh -i /home/fabric/work/fabric_config/slice_key -J mim7995_0000088864@bastion.fabric-testbed.net -F /home/fabric/work/fabric_config/ssh_config ubuntu@2001:400:a100:3090:f816:3eff:fe9d:63ae</td>\n",
       "    </tr>\n",
       "    <tr>\n",
       "      <th>router</th>\n",
       "      <td>ssh -i /home/fabric/work/fabric_config/slice_key -J mim7995_0000088864@bastion.fabric-testbed.net -F /home/fabric/work/fabric_config/ssh_config ubuntu@2001:400:a100:3090:f816:3eff:fea7:b0c9</td>\n",
       "    </tr>\n",
       "    <tr>\n",
       "      <th>romeo</th>\n",
       "      <td>ssh -i /home/fabric/work/fabric_config/slice_key -J mim7995_0000088864@bastion.fabric-testbed.net -F /home/fabric/work/fabric_config/ssh_config ubuntu@2001:400:a100:3090:f816:3eff:fe16:2c2e</td>\n",
       "    </tr>\n",
       "  </tbody>\n",
       "</table>\n",
       "</div>"
      ],
      "text/plain": [
       "                                                                                                                                                                                          SSH command\n",
       "Name                                                                                                                                                                                                 \n",
       "juliet  ssh -i /home/fabric/work/fabric_config/slice_key -J mim7995_0000088864@bastion.fabric-testbed.net -F /home/fabric/work/fabric_config/ssh_config ubuntu@2001:400:a100:3090:f816:3eff:fe9d:63ae\n",
       "router  ssh -i /home/fabric/work/fabric_config/slice_key -J mim7995_0000088864@bastion.fabric-testbed.net -F /home/fabric/work/fabric_config/ssh_config ubuntu@2001:400:a100:3090:f816:3eff:fea7:b0c9\n",
       "romeo   ssh -i /home/fabric/work/fabric_config/slice_key -J mim7995_0000088864@bastion.fabric-testbed.net -F /home/fabric/work/fabric_config/ssh_config ubuntu@2001:400:a100:3090:f816:3eff:fe16:2c2e"
      ]
     },
     "execution_count": 15,
     "metadata": {},
     "output_type": "execute_result"
    }
   ],
   "source": [
    "import pandas as pd\n",
    "pd.set_option('display.max_colwidth', None)\n",
    "ssh_str = 'ssh -i ' + slice.get_slice_private_key_file() + \\\n",
    "    ' -J ' + fablib.get_bastion_username() + '@' + fablib.get_bastion_public_addr() + \\\n",
    "    ' -F /home/fabric/work/fabric_config/ssh_config '\n",
    "slice_info = [{'Name': n.get_name(), 'SSH command': ssh_str + n.get_username() + '@' + str(n.get_management_ip())} for n in slice.get_nodes()]\n",
    "pd.DataFrame(slice_info).set_index('Name')"
   ]
  },
  {
   "cell_type": "markdown",
   "id": "6fb2d3af-e1ca-4309-b526-676c7ea6ad95",
   "metadata": {},
   "source": [
    "Now, you can open an SSH session on any of the nodes as follows:\n",
    "\n",
    "-   In Jupyter, from the menu bar, use File \\> New \\> Terminal to open a new terminal.\n",
    "-   Copy an SSH command from the table, and paste it into the terminal. (Note that each SSH command is a single line, even if the display wraps the text to a second line! When you copy and paste it, paste it all together.)"
   ]
  },
  {
   "cell_type": "markdown",
   "id": "211c8200-249a-46f3-8c92-26172213d0e2",
   "metadata": {},
   "source": [
    "You can repeat this process (open several terminals) to start a session on each host and the router. Each terminal session will have a tab in the Jupyter environment, so that you can easily switch between them.\n",
    "\n",
    "Now you can continue to perform the TCP congestion control experiment on these host sessions."
   ]
  },
  {
   "cell_type": "markdown",
   "id": "5b781de1-6e90-458a-adc7-88fd773b02a1",
   "metadata": {},
   "source": [
    "### Exercise: Extend the slice's end time"
   ]
  },
  {
   "cell_type": "code",
   "execution_count": 16,
   "id": "8fcbc895-7b27-4498-a64c-d781befcb109",
   "metadata": {},
   "outputs": [
    {
     "data": {
      "text/html": [
       "<style type=\"text/css\">\n",
       "#T_987a0 tr:nth-child(even) {\n",
       "  background: #dbf3ff;\n",
       "  color: #231f20;\n",
       "}\n",
       "#T_987a0 tr:nth-child(odd) {\n",
       "  background: #ffffff;\n",
       "  color: #231f20;\n",
       "}\n",
       "#T_987a0 caption {\n",
       "  text-align: center;\n",
       "  font-size: 150%;\n",
       "}\n",
       "#T_987a0_row0_col0, #T_987a0_row0_col1, #T_987a0_row1_col0, #T_987a0_row1_col1, #T_987a0_row2_col0, #T_987a0_row2_col1, #T_987a0_row3_col0, #T_987a0_row3_col1, #T_987a0_row4_col0, #T_987a0_row4_col1, #T_987a0_row5_col0, #T_987a0_row5_col1 {\n",
       "  text-align: left;\n",
       "  border: 1px #231f20 solid !important;\n",
       "  overwrite: False;\n",
       "}\n",
       "</style>\n",
       "<table id=\"T_987a0\">\n",
       "  <caption>Slice</caption>\n",
       "  <thead>\n",
       "  </thead>\n",
       "  <tbody>\n",
       "    <tr>\n",
       "      <td id=\"T_987a0_row0_col0\" class=\"data row0 col0\" >ID</td>\n",
       "      <td id=\"T_987a0_row0_col1\" class=\"data row0 col1\" >f3ec234a-a8b8-44c1-a07b-c9231897f7d3</td>\n",
       "    </tr>\n",
       "    <tr>\n",
       "      <td id=\"T_987a0_row1_col0\" class=\"data row1 col0\" >Name</td>\n",
       "      <td id=\"T_987a0_row1_col1\" class=\"data row1 col1\" >CongestionAvoidance_mim7995</td>\n",
       "    </tr>\n",
       "    <tr>\n",
       "      <td id=\"T_987a0_row2_col0\" class=\"data row2 col0\" >Lease Expiration (UTC)</td>\n",
       "      <td id=\"T_987a0_row2_col1\" class=\"data row2 col1\" >2023-07-19 11:58:03 +0000</td>\n",
       "    </tr>\n",
       "    <tr>\n",
       "      <td id=\"T_987a0_row3_col0\" class=\"data row3 col0\" >Lease Start (UTC)</td>\n",
       "      <td id=\"T_987a0_row3_col1\" class=\"data row3 col1\" >2023-07-18 11:58:03 +0000</td>\n",
       "    </tr>\n",
       "    <tr>\n",
       "      <td id=\"T_987a0_row4_col0\" class=\"data row4 col0\" >Project ID</td>\n",
       "      <td id=\"T_987a0_row4_col1\" class=\"data row4 col1\" >40ba6253-c257-4d9c-8658-7406bb437eb5</td>\n",
       "    </tr>\n",
       "    <tr>\n",
       "      <td id=\"T_987a0_row5_col0\" class=\"data row5 col0\" >State</td>\n",
       "      <td id=\"T_987a0_row5_col1\" class=\"data row5 col1\" >StableOK</td>\n",
       "    </tr>\n",
       "  </tbody>\n",
       "</table>\n"
      ],
      "text/plain": [
       "<pandas.io.formats.style.Styler at 0x7f4e63416340>"
      ]
     },
     "metadata": {},
     "output_type": "display_data"
    },
    {
     "data": {
      "text/html": [
       "<style type=\"text/css\">\n",
       "#T_987a0 tr:nth-child(even) {\n",
       "  background: #dbf3ff;\n",
       "  color: #231f20;\n",
       "}\n",
       "#T_987a0 tr:nth-child(odd) {\n",
       "  background: #ffffff;\n",
       "  color: #231f20;\n",
       "}\n",
       "#T_987a0 caption {\n",
       "  text-align: center;\n",
       "  font-size: 150%;\n",
       "}\n",
       "#T_987a0_row0_col0, #T_987a0_row0_col1, #T_987a0_row1_col0, #T_987a0_row1_col1, #T_987a0_row2_col0, #T_987a0_row2_col1, #T_987a0_row3_col0, #T_987a0_row3_col1, #T_987a0_row4_col0, #T_987a0_row4_col1, #T_987a0_row5_col0, #T_987a0_row5_col1 {\n",
       "  text-align: left;\n",
       "  border: 1px #231f20 solid !important;\n",
       "  overwrite: False;\n",
       "}\n",
       "</style>\n",
       "<table id=\"T_987a0\">\n",
       "  <caption>Slice</caption>\n",
       "  <thead>\n",
       "  </thead>\n",
       "  <tbody>\n",
       "    <tr>\n",
       "      <td id=\"T_987a0_row0_col0\" class=\"data row0 col0\" >ID</td>\n",
       "      <td id=\"T_987a0_row0_col1\" class=\"data row0 col1\" >f3ec234a-a8b8-44c1-a07b-c9231897f7d3</td>\n",
       "    </tr>\n",
       "    <tr>\n",
       "      <td id=\"T_987a0_row1_col0\" class=\"data row1 col0\" >Name</td>\n",
       "      <td id=\"T_987a0_row1_col1\" class=\"data row1 col1\" >CongestionAvoidance_mim7995</td>\n",
       "    </tr>\n",
       "    <tr>\n",
       "      <td id=\"T_987a0_row2_col0\" class=\"data row2 col0\" >Lease Expiration (UTC)</td>\n",
       "      <td id=\"T_987a0_row2_col1\" class=\"data row2 col1\" >2023-07-19 11:58:03 +0000</td>\n",
       "    </tr>\n",
       "    <tr>\n",
       "      <td id=\"T_987a0_row3_col0\" class=\"data row3 col0\" >Lease Start (UTC)</td>\n",
       "      <td id=\"T_987a0_row3_col1\" class=\"data row3 col1\" >2023-07-18 11:58:03 +0000</td>\n",
       "    </tr>\n",
       "    <tr>\n",
       "      <td id=\"T_987a0_row4_col0\" class=\"data row4 col0\" >Project ID</td>\n",
       "      <td id=\"T_987a0_row4_col1\" class=\"data row4 col1\" >40ba6253-c257-4d9c-8658-7406bb437eb5</td>\n",
       "    </tr>\n",
       "    <tr>\n",
       "      <td id=\"T_987a0_row5_col0\" class=\"data row5 col0\" >State</td>\n",
       "      <td id=\"T_987a0_row5_col1\" class=\"data row5 col1\" >StableOK</td>\n",
       "    </tr>\n",
       "  </tbody>\n",
       "</table>\n"
      ],
      "text/plain": [
       "<pandas.io.formats.style.Styler at 0x7f4e63416340>"
      ]
     },
     "execution_count": 16,
     "metadata": {},
     "output_type": "execute_result"
    }
   ],
   "source": [
    "#Check the current end time of your slice in the output of the following cell:\n",
    "slice.show()"
   ]
  },
  {
   "cell_type": "code",
   "execution_count": 17,
   "id": "b71effd8-cf1c-4726-8e16-8b4c8b236be8",
   "metadata": {},
   "outputs": [
    {
     "ename": "Exception",
     "evalue": "Failed to renew slice: Status.FAILURE, (500)\nReason: INTERNAL SERVER ERROR\nHTTP response headers: HTTPHeaderDict({'Server': 'nginx/1.21.6', 'Date': 'Tue, 18 Jul 2023 12:04:52 GMT', 'Content-Type': 'text/html; charset=utf-8', 'Content-Length': '338', 'Connection': 'keep-alive', 'Access-Control-Allow-Credentials': 'true', 'Access-Control-Allow-Headers': 'DNT, User-Agent, X-Requested-With, If-Modified-Since, Cache-Control, Content-Type, Range, Authorization', 'Access-Control-Allow-Methods': 'GET, POST, PUT, PATCH, DELETE, OPTIONS', 'Access-Control-Allow-Origin': '*', 'Access-Control-Expose-Headers': 'Content-Length, Content-Range, X-Error', 'X-Error': 'PDP Authorization check failed - Policy Violation: Your project is lacking Slice.NoLimitLifetime tag so you cannot renew resource lifetime by longer than two weeks.'})\nHTTP response body: b'{\\n    \"errors\": [\\n        {\\n            \"details\": \"PDP Authorization check failed - Policy Violation: Your project is lacking Slice.NoLimitLifetime tag so you cannot renew resource lifetime by longer than two weeks.\",\\n            \"message\": \"Internal Server Error\"\\n        }\\n    ],\\n    \"size\": 1,\\n    \"status\": 500,\\n    \"type\": \"error\"\\n}'\n",
     "output_type": "error",
     "traceback": [
      "\u001b[0;31m---------------------------------------------------------------------------\u001b[0m",
      "\u001b[0;31mException\u001b[0m                                 Traceback (most recent call last)",
      "Cell \u001b[0;32mIn[17], line 7\u001b[0m\n\u001b[1;32m      5\u001b[0m \u001b[38;5;66;03m# Set end date to 3 days from now\u001b[39;00m\n\u001b[1;32m      6\u001b[0m end_date \u001b[38;5;241m=\u001b[39m (datetime\u001b[38;5;241m.\u001b[39mnow(timezone\u001b[38;5;241m.\u001b[39mutc) \u001b[38;5;241m+\u001b[39m timedelta(days\u001b[38;5;241m=\u001b[39m\u001b[38;5;241m15\u001b[39m))\u001b[38;5;241m.\u001b[39mstrftime(\u001b[38;5;124m\"\u001b[39m\u001b[38;5;124m%\u001b[39m\u001b[38;5;124mY-\u001b[39m\u001b[38;5;124m%\u001b[39m\u001b[38;5;124mm-\u001b[39m\u001b[38;5;132;01m%d\u001b[39;00m\u001b[38;5;124m \u001b[39m\u001b[38;5;124m%\u001b[39m\u001b[38;5;124mH:\u001b[39m\u001b[38;5;124m%\u001b[39m\u001b[38;5;124mM:\u001b[39m\u001b[38;5;124m%\u001b[39m\u001b[38;5;124mS \u001b[39m\u001b[38;5;124m%\u001b[39m\u001b[38;5;124mz\u001b[39m\u001b[38;5;124m\"\u001b[39m)\n\u001b[0;32m----> 7\u001b[0m \u001b[38;5;28;43mslice\u001b[39;49m\u001b[38;5;241;43m.\u001b[39;49m\u001b[43mrenew\u001b[49m\u001b[43m(\u001b[49m\u001b[43mend_date\u001b[49m\u001b[43m)\u001b[49m\n",
      "File \u001b[0;32m/opt/conda/lib/python3.9/site-packages/fabrictestbed_extensions/fablib/slice.py:1363\u001b[0m, in \u001b[0;36mSlice.renew\u001b[0;34m(self, end_date)\u001b[0m\n\u001b[1;32m   1358\u001b[0m return_status, result \u001b[38;5;241m=\u001b[39m \u001b[38;5;28mself\u001b[39m\u001b[38;5;241m.\u001b[39mfablib_manager\u001b[38;5;241m.\u001b[39mget_slice_manager()\u001b[38;5;241m.\u001b[39mrenew(\n\u001b[1;32m   1359\u001b[0m     slice_object\u001b[38;5;241m=\u001b[39m\u001b[38;5;28mself\u001b[39m\u001b[38;5;241m.\u001b[39msm_slice, new_lease_end_time\u001b[38;5;241m=\u001b[39mend_date\n\u001b[1;32m   1360\u001b[0m )\n\u001b[1;32m   1362\u001b[0m \u001b[38;5;28;01mif\u001b[39;00m return_status \u001b[38;5;241m!=\u001b[39m Status\u001b[38;5;241m.\u001b[39mOK:\n\u001b[0;32m-> 1363\u001b[0m     \u001b[38;5;28;01mraise\u001b[39;00m \u001b[38;5;167;01mException\u001b[39;00m(\n\u001b[1;32m   1364\u001b[0m         \u001b[38;5;124m\"\u001b[39m\u001b[38;5;124mFailed to renew slice: \u001b[39m\u001b[38;5;132;01m{}\u001b[39;00m\u001b[38;5;124m, \u001b[39m\u001b[38;5;132;01m{}\u001b[39;00m\u001b[38;5;124m\"\u001b[39m\u001b[38;5;241m.\u001b[39mformat(return_status, result)\n\u001b[1;32m   1365\u001b[0m     )\n",
      "\u001b[0;31mException\u001b[0m: Failed to renew slice: Status.FAILURE, (500)\nReason: INTERNAL SERVER ERROR\nHTTP response headers: HTTPHeaderDict({'Server': 'nginx/1.21.6', 'Date': 'Tue, 18 Jul 2023 12:04:52 GMT', 'Content-Type': 'text/html; charset=utf-8', 'Content-Length': '338', 'Connection': 'keep-alive', 'Access-Control-Allow-Credentials': 'true', 'Access-Control-Allow-Headers': 'DNT, User-Agent, X-Requested-With, If-Modified-Since, Cache-Control, Content-Type, Range, Authorization', 'Access-Control-Allow-Methods': 'GET, POST, PUT, PATCH, DELETE, OPTIONS', 'Access-Control-Allow-Origin': '*', 'Access-Control-Expose-Headers': 'Content-Length, Content-Range, X-Error', 'X-Error': 'PDP Authorization check failed - Policy Violation: Your project is lacking Slice.NoLimitLifetime tag so you cannot renew resource lifetime by longer than two weeks.'})\nHTTP response body: b'{\\n    \"errors\": [\\n        {\\n            \"details\": \"PDP Authorization check failed - Policy Violation: Your project is lacking Slice.NoLimitLifetime tag so you cannot renew resource lifetime by longer than two weeks.\",\\n            \"message\": \"Internal Server Error\"\\n        }\\n    ],\\n    \"size\": 1,\\n    \"status\": 500,\\n    \"type\": \"error\"\\n}'\n"
     ]
    }
   ],
   "source": [
    "from datetime import datetime\n",
    "from datetime import timezone\n",
    "from datetime import timedelta\n",
    "\n",
    "# Set end date to 3 days from now\n",
    "end_date = (datetime.now(timezone.utc) + timedelta(days=15)).strftime(\"%Y-%m-%d %H:%M:%S %z\")\n",
    "slice.renew(end_date)"
   ]
  },
  {
   "cell_type": "code",
   "execution_count": null,
   "id": "ff416fd3-1a04-461a-8de2-d0464b761be9",
   "metadata": {},
   "outputs": [],
   "source": [
    "#Confirm the new end time of your slice in the output of the following cell:\n",
    "slice.show()"
   ]
  },
  {
   "cell_type": "markdown",
   "id": "cb804d97-d950-44b1-8d9a-ab671cdfc8bf",
   "metadata": {},
   "source": [
    "### Delete your slice resources\n",
    "\n",
    "If you finished your experiment early, you should delete your slice! The following cell deletes all the resources in your slice, freeing them for other experimenters."
   ]
  },
  {
   "cell_type": "code",
   "execution_count": null,
   "id": "594f5824-f6b8-4fd4-beb7-875c6a99987d",
   "metadata": {},
   "outputs": [],
   "source": [
    "slice.delete()"
   ]
  },
  {
   "cell_type": "code",
   "execution_count": null,
   "id": "295eec47-b97c-49a2-8d6b-d0e32444570f",
   "metadata": {},
   "outputs": [],
   "source": [
    "slice.show()"
   ]
  }
 ],
 "metadata": {
  "kernelspec": {
   "display_name": "Python 3 (ipykernel)",
   "language": "python",
   "name": "python3"
  },
  "language_info": {
   "codemirror_mode": {
    "name": "ipython",
    "version": 3
   },
   "file_extension": ".py",
   "mimetype": "text/x-python",
   "name": "python",
   "nbconvert_exporter": "python",
   "pygments_lexer": "ipython3",
   "version": "3.9.7"
  }
 },
 "nbformat": 4,
 "nbformat_minor": 5
}
